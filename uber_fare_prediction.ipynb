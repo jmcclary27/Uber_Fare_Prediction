{
 "cells": [
  {
   "cell_type": "code",
   "execution_count": null,
   "metadata": {},
   "outputs": [],
   "source": [
    "import pandas as pd\n",
    "import calendar\n",
    "from sklearn.model_selection import train_test_split\n",
    "from sklearn.linear_model import LinearRegression\n",
    "from sklearn.metrics import mean_squared_error\n",
    "from sklearn.ensemble import RandomForestRegressor"
   ]
  },
  {
   "cell_type": "code",
   "execution_count": null,
   "metadata": {},
   "outputs": [],
   "source": [
    "#Opens the training data to read it\n",
    "train = pd.read_csv(r'train.csv')\n",
    "#Removes unecessary columns\n",
    "train.drop(labels='Unnamed: 0', axis = 1, inplace = True)\n",
    "train.drop(labels='key', axis = 1, inplace = True)\n",
    "#Adds a distance column in the excel file using pythagorean theorem\n",
    "#Next four columns no longer needed\n",
    "train.drop(labels='pickup_longitude', axis = 1, inplace = True)\n",
    "train.drop(labels='pickup_latitude', axis = 1, inplace = True)\n",
    "train.drop(labels='dropoff_longitude', axis = 1, inplace = True)\n",
    "train.drop(labels='dropoff_latitude', axis = 1, inplace = True)\n",
    "#Changing the date and time from object to datetime value\n",
    "train[\"pickup_datetime\"] = pd.to_datetime(train[\"pickup_datetime\"])"
   ]
  },
  {
   "cell_type": "code",
   "execution_count": null,
   "metadata": {},
   "outputs": [],
   "source": [
    "#Opens the testing data to read it\n",
    "test = pd.read_csv(r'test.csv')\n",
    "#Removes these four columns due to adding a distance column in this file too\n",
    "test.drop(labels='pickup_longitude', axis = 1, inplace = True)\n",
    "test.drop(labels='pickup_latitude', axis = 1, inplace = True)\n",
    "test.drop(labels='dropoff_longitude', axis = 1, inplace = True)\n",
    "test.drop(labels='dropoff_latitude', axis = 1, inplace = True)"
   ]
  },
  {
   "cell_type": "code",
   "execution_count": null,
   "metadata": {},
   "outputs": [],
   "source": [
    "#Stores every distance value in 'train' that is greater than the max distance value in 'test'\n",
    "too_long = train[train['distance']>test['distance'].max()]\n",
    "#Removes previously stored values\n",
    "train.drop(too_long.index, inplace = True)"
   ]
  },
  {
   "cell_type": "code",
   "execution_count": null,
   "metadata": {},
   "outputs": [],
   "source": [
    "#Creates columns for specific times\n",
    "train['hour'] = train['pickup_datetime'].apply(lambda x : x.hour)\n",
    "train['day'] = train['pickup_datetime'].apply(lambda x : x.day)\n",
    "train['month'] = train['pickup_datetime'].apply(lambda x : x.month)\n",
    "train['year'] = train['pickup_datetime'].apply(lambda x : x.year)\n",
    "train['weekday'] = train['pickup_datetime'].apply(lambda x : calendar.day_name[x.weekday()])"
   ]
  },
  {
   "cell_type": "code",
   "execution_count": null,
   "metadata": {},
   "outputs": [],
   "source": [
    "#Creates a hashmap of each weekday with their corresponding 0-indexed positions\n",
    "train.weekday = train.weekday.map({'Sunday' : 0, 'Monday' : 1, 'Tuesday' : 2, 'Wednesday' : 3, 'Wednesday' : 4, 'Thursday' : 5, 'Friday' : 6, 'Saturday' : 7})"
   ]
  },
  {
   "cell_type": "code",
   "execution_count": null,
   "metadata": {},
   "outputs": [],
   "source": [
    "#Removes the obsolete 'pickup_datetime' column\n",
    "train.drop(labels = 'pickup_datetime',axis=1,inplace=True)"
   ]
  },
  {
   "cell_type": "code",
   "execution_count": null,
   "metadata": {},
   "outputs": [],
   "source": [
    "#Splits \"train\" into two variables, one with only the \"fare_amount\" column, and one with every other column\n",
    "#\"inplace\" is not used since this is creating a variable and not editing the original .csv file\n",
    "x = train.drop(\"fare_amount\", axis=1)\n",
    "y = train[\"fare_amount\"]"
   ]
  },
  {
   "cell_type": "code",
   "execution_count": null,
   "metadata": {},
   "outputs": [],
   "source": [
    "#Splits x and y each into two variable, one of which is to be used as training data and the otherto be used as the testing data\n",
    "#test_size of 0.2 is used soo the training and testing data keep the same shape ratio as the original train and test .csv files\n",
    "x_train,x_test,y_train,y_test = train_test_split(x,y,test_size=0.2,random_state=1)"
   ]
  },
  {
   "cell_type": "code",
   "execution_count": null,
   "metadata": {},
   "outputs": [],
   "source": [
    "#Creates random forest with 100 trees instead of the default 10 trees since it is a larger data set\n",
    "#It is important to note that it does not matter what number is used for random_state as long as the same number is used throughout the code\n",
    "rfrmodel = RandomForestRegressor(n_estimators=100, random_state=1)"
   ]
  },
  {
   "cell_type": "code",
   "execution_count": null,
   "metadata": {},
   "outputs": [],
   "source": [
    "#Trains the data\n",
    "rfrmodel.fit(x_train,y_train)"
   ]
  },
  {
   "cell_type": "code",
   "execution_count": null,
   "metadata": {},
   "outputs": [],
   "source": [
    "#Predicts cost of the trip since data has been fitted\n",
    "rfrmodel_pred= rfrmodel.predict(x_test)"
   ]
  },
  {
   "cell_type": "code",
   "execution_count": null,
   "metadata": {},
   "outputs": [],
   "source": [
    "#Reopens the original test file so all original columns are there\n",
    "test = pd.read_csv(r'test.csv')\n",
    "test.drop(labels = 'key',axis=1,inplace=True)"
   ]
  },
  {
   "cell_type": "code",
   "execution_count": null,
   "metadata": {},
   "outputs": [],
   "source": [
    "#Changes the format of \"pickup_datetime\" column so it can be labeled by hour, day, month, etc...\n",
    "test[\"pickup_datetime\"] = pd.to_datetime(test[\"pickup_datetime\"])"
   ]
  },
  {
   "cell_type": "code",
   "execution_count": null,
   "metadata": {},
   "outputs": [],
   "source": [
    "#Formats \"pickup_datetime\"\n",
    "#It is important to note that every column must be added in the same order they were added before the data was fitted\n",
    "test['hour']=test['pickup_datetime'].apply(lambda x:x.hour)\n",
    "test['day']=test['pickup_datetime'].apply(lambda x:x.day)\n",
    "test['month']=test['pickup_datetime'].apply(lambda x:x.month)\n",
    "test['year']=test['pickup_datetime'].apply(lambda x:x.year)\n",
    "test['weekday']=test['pickup_datetime'].apply(lambda x: calendar.day_name[x.weekday()])"
   ]
  },
  {
   "cell_type": "code",
   "execution_count": null,
   "metadata": {},
   "outputs": [],
   "source": [
    "#Creates a hashmap of each weekday with their corresponding 0-indexed positions\n",
    "test.weekday = test.weekday.map({'Sunday':0,'Monday':1,'Tuesday':2,'Wednesday':3,'Thursday':4,'Friday':5,'Saturday':6})"
   ]
  },
  {
   "cell_type": "code",
   "execution_count": null,
   "metadata": {},
   "outputs": [],
   "source": [
    "#Drops unecessary columns\n",
    "test.drop(labels = \"pickup_datetime\",axis=1,inplace=True)\n",
    "test.drop(labels='pickup_longitude', axis = 1, inplace = True)\n",
    "test.drop(labels='pickup_latitude', axis = 1, inplace = True)\n",
    "test.drop(labels='dropoff_longitude', axis = 1, inplace = True)\n",
    "test.drop(labels='dropoff_latitude', axis = 1, inplace = True)"
   ]
  },
  {
   "cell_type": "code",
   "execution_count": null,
   "metadata": {},
   "outputs": [],
   "source": [
    "#Does the prediction calculations for each line \n",
    "rfrmodel_prediction = rfrmodel.predict(test)"
   ]
  },
  {
   "cell_type": "code",
   "execution_count": null,
   "metadata": {},
   "outputs": [],
   "source": [
    "#Creates a variable for all the predictions\n",
    "df = pd.DataFrame(rfrmodel_pred)"
   ]
  },
  {
   "cell_type": "code",
   "execution_count": null,
   "metadata": {},
   "outputs": [],
   "source": [
    "#Stores the predictions in a .csv file\n",
    "df.to_csv('pred.csv')"
   ]
  }
 ],
 "metadata": {
  "language_info": {
   "name": "python"
  }
 },
 "nbformat": 4,
 "nbformat_minor": 2
}
